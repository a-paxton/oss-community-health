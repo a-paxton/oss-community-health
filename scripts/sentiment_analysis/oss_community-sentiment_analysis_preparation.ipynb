{
 "cells": [
  {
   "cell_type": "markdown",
   "metadata": {},
   "source": [
    "# Sentiment analysis of open-source software communities"
   ]
  },
  {
   "cell_type": "markdown",
   "metadata": {},
   "source": [
    "This Jupyter notebook includes the data preparation and analysis\n",
    "for our project exploring open-source software communities."
   ]
  },
  {
   "cell_type": "markdown",
   "metadata": {},
   "source": [
    "**Code last updated**: 27 October 2018"
   ]
  },
  {
   "cell_type": "markdown",
   "metadata": {},
   "source": [
    "***"
   ]
  },
  {
   "cell_type": "markdown",
   "metadata": {},
   "source": [
    "## Table of contents"
   ]
  },
  {
   "cell_type": "markdown",
   "metadata": {},
   "source": [
    "* [Preliminaries](#Preliminaries)\n",
    "* [Data preparation](#Data-preparation)"
   ]
  },
  {
   "cell_type": "markdown",
   "metadata": {},
   "source": [
    "***"
   ]
  },
  {
   "cell_type": "markdown",
   "metadata": {},
   "source": [
    "## Preliminaries"
   ]
  },
  {
   "cell_type": "markdown",
   "metadata": {},
   "source": [
    "### Load libraries and functions"
   ]
  },
  {
   "cell_type": "code",
   "execution_count": null,
   "metadata": {},
   "outputs": [],
   "source": [
    "import os\n",
    "import nltk\n",
    "import pandas as pd\n",
    "from utils import annotate"
   ]
  },
  {
   "cell_type": "markdown",
   "metadata": {},
   "source": [
    "### Read in data"
   ]
  },
  {
   "cell_type": "markdown",
   "metadata": {},
   "source": [
    "**Original columns in `comments.tsv`**\n",
    "* `author_association`: Comment author's role in the project\n",
    "    * `NONE`: No association with the project\n",
    "    * `FIRST_TIMER`: Has not previously committed to GitHub\n",
    "    * `FIRST_TIME_CONTRIBUTOR`: First time contributing to this repository\n",
    "    * `COLLABORATOR`: Has previously contributed to repository\n",
    "    * `MEMBER`: Member of the organization that owns the repository\n",
    "    * `CONTRIBUTOR`: Invited to collaborate on repository\n",
    "    * `OWNER`: Owner of repository\n",
    "* `body`: Comment content\n",
    "* `created_at`: Time of comment creation\n",
    "* `id`: Unique identifier of comment\n",
    "* `node_id`: Unique identifier of entry for graphQL\n",
    "* `updated_at`: Time of comment update\n",
    "* `ticket_id`: Sequential identifier of ticket (issue or PR) in repository\n",
    "* `author_name`: Commenter's GitHub username\n",
    "* `author_id`: Commenter's unique identifier"
   ]
  },
  {
   "cell_type": "code",
   "execution_count": null,
   "metadata": {},
   "outputs": [],
   "source": [
    "comments_df = pd.read_csv('../../data/mayavi/comments.tsv',\n",
    "                          sep='\\t', index_col=0).sort_index()"
   ]
  },
  {
   "cell_type": "code",
   "execution_count": null,
   "metadata": {},
   "outputs": [],
   "source": [
    "comments_df.head(5)"
   ]
  },
  {
   "cell_type": "markdown",
   "metadata": {},
   "source": [
    "**Original columns in `issues.tsv`**\n",
    "* `assignees`\n",
    "* `author_association`\n",
    "* `body`: Content of ticket\n",
    "* `closed_at`: Date and time when ticket was closed\n",
    "* `comments`: Number of comments made on ticket\n",
    "* `created_at`: Date and time of ticket creation\n",
    "* `id`: Unique identifier for ticket\n",
    "* `labels`\n",
    "* `locked`\n",
    "* `node_id`: Unique identifier for ticket for graphQL\n",
    "* `project`: Name of repository\n",
    "* `organization`: Name of organization that owns the repository\n",
    "* `author_name`: Ticket creator's GitHub username\n",
    "* `author_id`: Ticket creator's unique identifier\n",
    "* `ticket_id`: Sequential identifier of ticket (issue or PR) in repository\n",
    "* `type`: Type of ticket (`issue` or `pull_request`)"
   ]
  },
  {
   "cell_type": "code",
   "execution_count": null,
   "metadata": {},
   "outputs": [],
   "source": [
    "issues_df = pd.read_csv('../../data/mayavi/issues.tsv',\n",
    "                          sep='\\t', index_col=0).sort_index()"
   ]
  },
  {
   "cell_type": "code",
   "execution_count": null,
   "metadata": {},
   "outputs": [],
   "source": [
    "issues_df.head(5)"
   ]
  },
  {
   "cell_type": "markdown",
   "metadata": {},
   "source": [
    "***"
   ]
  },
  {
   "cell_type": "markdown",
   "metadata": {},
   "source": [
    "### Data preparation"
   ]
  },
  {
   "cell_type": "markdown",
   "metadata": {},
   "source": [
    "### Annotate the files with new columns"
   ]
  },
  {
   "cell_type": "markdown",
   "metadata": {},
   "source": [
    "**Columns added to `comments_df`**\n",
    "* `num_PR_created`: Number of pull requests created by the commenter before this comment\n",
    "* `num_issue_created`: Number of issues created by the commenter before this comment\n",
    "* `was_updated`: Whether the comment body was updated after posting\n",
    "* `comment_order`: The index of the comment within the ticket"
   ]
  },
  {
   "cell_type": "markdown",
   "metadata": {},
   "source": [
    "**Columns added to `issues_df`**\n",
    "* `num_PR_created`: Number of pull requests created by the ticket creator before this ticket\n",
    "* `num_issue_created`: Number of issues created by the ticket creator before this ticket\n",
    "* `was_updated`: Whether the ticket body was updated after posting\n",
    "* `is_closed`: Whether the ticket has been closed"
   ]
  },
  {
   "cell_type": "code",
   "execution_count": null,
   "metadata": {},
   "outputs": [],
   "source": [
    "comment_df, issues_df = annotate.annotate_comments_tickets(comments_df,issues_df)"
   ]
  },
  {
   "cell_type": "markdown",
   "metadata": {},
   "source": [
    "### Clean up dataframes"
   ]
  },
  {
   "cell_type": "markdown",
   "metadata": {},
   "source": [
    "In both dataframes, remove unnecessary columns."
   ]
  },
  {
   "cell_type": "code",
   "execution_count": null,
   "metadata": {},
   "outputs": [],
   "source": [
    "comment_df = comment_df.drop(columns=['node_id','created_at','updated_at','author_id'])"
   ]
  },
  {
   "cell_type": "code",
   "execution_count": null,
   "metadata": {},
   "outputs": [],
   "source": [
    "issues_df = issues_df.drop(columns=['node_id','organization','author_id','locked'])"
   ]
  },
  {
   "cell_type": "code",
   "execution_count": null,
   "metadata": {},
   "outputs": [],
   "source": [
    "comment_df.head(5)"
   ]
  },
  {
   "cell_type": "markdown",
   "metadata": {},
   "source": [
    "### Clean up body"
   ]
  },
  {
   "cell_type": "markdown",
   "metadata": {},
   "source": [
    "**NB**: Need to remove quoted comments. Can do it by removing `^>.*$`"
   ]
  },
  {
   "cell_type": "markdown",
   "metadata": {},
   "source": [
    "**NB**: Perhaps make a column that lists all referenced users?"
   ]
  },
  {
   "cell_type": "code",
   "execution_count": null,
   "metadata": {},
   "outputs": [],
   "source": []
  },
  {
   "cell_type": "code",
   "execution_count": null,
   "metadata": {},
   "outputs": [],
   "source": []
  },
  {
   "cell_type": "code",
   "execution_count": null,
   "metadata": {},
   "outputs": [],
   "source": []
  },
  {
   "cell_type": "markdown",
   "metadata": {},
   "source": [
    "***"
   ]
  }
 ],
 "metadata": {
  "kernelspec": {
   "display_name": "Python 3",
   "language": "python",
   "name": "python3"
  },
  "language_info": {
   "codemirror_mode": {
    "name": "ipython",
    "version": 3
   },
   "file_extension": ".py",
   "mimetype": "text/x-python",
   "name": "python",
   "nbconvert_exporter": "python",
   "pygments_lexer": "ipython3",
   "version": "3.7.0"
  }
 },
 "nbformat": 4,
 "nbformat_minor": 2
}

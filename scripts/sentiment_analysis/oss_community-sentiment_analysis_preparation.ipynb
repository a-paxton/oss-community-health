{
 "cells": [
  {
   "cell_type": "markdown",
   "metadata": {},
   "source": [
    "# Sentiment analysis of open-source software communities"
   ]
  },
  {
   "cell_type": "markdown",
   "metadata": {},
   "source": [
    "This Jupyter notebook includes the data preparation and analysis\n",
    "for our project exploring open-source software communities."
   ]
  },
  {
   "cell_type": "markdown",
   "metadata": {},
   "source": [
    "**Code last updated**: 6 November 2018"
   ]
  },
  {
   "cell_type": "markdown",
   "metadata": {},
   "source": [
    "***"
   ]
  },
  {
   "cell_type": "markdown",
   "metadata": {},
   "source": [
    "## Table of contents"
   ]
  },
  {
   "cell_type": "markdown",
   "metadata": {},
   "source": [
    "* [Preliminaries](#Preliminaries)\n",
    "* [Data preparation](#Data-preparation)"
   ]
  },
  {
   "cell_type": "markdown",
   "metadata": {},
   "source": [
    "***"
   ]
  },
  {
   "cell_type": "markdown",
   "metadata": {},
   "source": [
    "## Preliminaries"
   ]
  },
  {
   "cell_type": "markdown",
   "metadata": {},
   "source": [
    "### Load libraries and functions"
   ]
  },
  {
   "cell_type": "code",
   "execution_count": null,
   "metadata": {},
   "outputs": [],
   "source": [
    "import os, nltk, glob"
   ]
  },
  {
   "cell_type": "code",
   "execution_count": null,
   "metadata": {},
   "outputs": [],
   "source": [
    "import pandas as pd\n",
    "import numpy as np\n",
    "import matplotlib.pyplot as plt\n",
    "import string"
   ]
  },
  {
   "cell_type": "code",
   "execution_count": null,
   "metadata": {},
   "outputs": [],
   "source": [
    "from vaderSentiment.vaderSentiment import SentimentIntensityAnalyzer"
   ]
  },
  {
   "cell_type": "code",
   "execution_count": null,
   "metadata": {},
   "outputs": [],
   "source": [
    "from utils import annotate"
   ]
  },
  {
   "cell_type": "markdown",
   "metadata": {},
   "source": [
    "***"
   ]
  },
  {
   "cell_type": "markdown",
   "metadata": {},
   "source": [
    "## Data preparation"
   ]
  },
  {
   "cell_type": "markdown",
   "metadata": {},
   "source": [
    "Cycle through all GitHub project files to clean data and prepare datasets as needed for analysis. \n",
    "For complete list of downloaded variables and new variables created, see `metadata.md` file."
   ]
  },
  {
   "cell_type": "code",
   "execution_count": null,
   "metadata": {},
   "outputs": [],
   "source": [
    "# list all projects\n",
    "project_list = os.listdir('../../data/raw_data')"
   ]
  },
  {
   "cell_type": "code",
   "execution_count": null,
   "metadata": {},
   "outputs": [],
   "source": [
    "# load in the list of bots\n",
    "bot_list = pd.read_csv('../bot_names.txt')['bot_name']\n",
    "\n",
    "# cycle through all \n",
    "for project in project_list:\n",
    "    \n",
    "    # read in the next comments and issues files\n",
    "    temp_comments = pd.read_csv('../../data/raw_data/'+project+'/comments.tsv',\n",
    "                                sep='\\t', index_col=0).sort_index()\n",
    "    temp_issues = pd.read_csv('../../data/raw_data/'+project+'/issues.tsv',\n",
    "                              sep='\\t', index_col=0).sort_index()\n",
    "    \n",
    "    # append the current project to each\n",
    "    temp_comments['project'] = project\n",
    "    temp_issues['project'] = project\n",
    "    \n",
    "    # annotate each file\n",
    "    temp_comments, temp_issues = annotate.annotate_comments_tickets(temp_comments,\n",
    "                                                                    temp_issues)\n",
    "    \n",
    "    # drop columns we don't need\n",
    "    temp_comments = temp_comments.drop(columns=['node_id','created_at',\n",
    "                                                'updated_at','author_id'])\n",
    "    temp_issues = temp_issues.drop(columns=['node_id','organization',\n",
    "                                          'author_id','locked'])\n",
    "    \n",
    "    # clean up the text body\n",
    "    temp_comments = annotate.body_cleanup(temp_comments, bot_list)\n",
    "    temp_issues = annotate.body_cleanup(temp_issues, bot_list)\n",
    "    \n",
    "    # run sentiment analysis\n",
    "    temp_comments = annotate.add_sentiment(temp_comments)\n",
    "    temp_issues = annotate.add_sentiment(temp_issues)\n",
    "    \n",
    "    # save cleaned data to intermediary folders\n",
    "    temp_comments.to_csv('../../data/processed_data/'+project+'-processed-comments.csv',\n",
    "                         index=False, header=True)\n",
    "    temp_issues.to_csv('../../data/processed_data/'+project+'-processed-issues.csv',\n",
    "                         index=False, header=True)\n",
    "    \n",
    "    # create overlapping histograms\n",
    "    bin_number = 10\n",
    "    plt.hist(temp_comments['negative_emotion'], \n",
    "             bin_number, facecolor='r', alpha=0.5)\n",
    "    plt.hist(temp_comments['positive_emotion'], \n",
    "             bin_number, facecolor='g', alpha=0.5)\n",
    "    plt.hist(temp_comments['neutral_emotion'], \n",
    "             bin_number, facecolor='grey', alpha=0.75)\n",
    "\n",
    "    # create labels\n",
    "    plt.title('Histogram of emotion proportions in comment bodies\\nfor '+project)\n",
    "    plt.xlabel('Proportion of emotion words to total words')\n",
    "    plt.ylabel('Counts')\n",
    "    plt.grid(True)\n",
    "\n",
    "    # plot it\n",
    "    plt.savefig('../../figures/emotion_histograms/'+project+'.png',\n",
    "               dpi=150)\n",
    "    plt.close()"
   ]
  },
  {
   "cell_type": "code",
   "execution_count": null,
   "metadata": {},
   "outputs": [],
   "source": [
    "# concatenate all into master file\n",
    "comments_df = pd.DataFrame()\n",
    "issues_df = pd.DataFrame()"
   ]
  },
  {
   "cell_type": "markdown",
   "metadata": {},
   "source": [
    "***"
   ]
  },
  {
   "cell_type": "markdown",
   "metadata": {},
   "source": [
    "# Code testing ground"
   ]
  },
  {
   "cell_type": "markdown",
   "metadata": {},
   "source": [
    "### Data preparation"
   ]
  },
  {
   "cell_type": "code",
   "execution_count": null,
   "metadata": {},
   "outputs": [],
   "source": [
    "comments_df = pd.read_csv('../../data/raw_data/mayavi/comments.tsv',\n",
    "                          sep='\\t', index_col=0).sort_index()"
   ]
  },
  {
   "cell_type": "code",
   "execution_count": null,
   "metadata": {},
   "outputs": [],
   "source": [
    "issues_df = pd.read_csv('../../data/raw_data/mayavi/issues.tsv',\n",
    "                          sep='\\t', index_col=0).sort_index()"
   ]
  },
  {
   "cell_type": "markdown",
   "metadata": {},
   "source": [
    "### Annotate the files with new columns"
   ]
  },
  {
   "cell_type": "code",
   "execution_count": null,
   "metadata": {},
   "outputs": [],
   "source": [
    "comment_df, issues_df = annotate.annotate_comments_tickets(comments_df,issues_df)"
   ]
  },
  {
   "cell_type": "markdown",
   "metadata": {},
   "source": [
    "### Remove unnecessary columns"
   ]
  },
  {
   "cell_type": "code",
   "execution_count": null,
   "metadata": {},
   "outputs": [],
   "source": [
    "comment_df = comment_df.drop(columns=['node_id','created_at','updated_at','author_id'])"
   ]
  },
  {
   "cell_type": "code",
   "execution_count": null,
   "metadata": {},
   "outputs": [],
   "source": [
    "issues_df = issues_df.drop(columns=['node_id','organization','author_id','locked'])"
   ]
  },
  {
   "cell_type": "markdown",
   "metadata": {},
   "source": [
    "### Clean up body"
   ]
  },
  {
   "cell_type": "code",
   "execution_count": null,
   "metadata": {},
   "outputs": [],
   "source": [
    "bot_list = pd.read_csv('../bot_names.txt')['bot_name']"
   ]
  },
  {
   "cell_type": "code",
   "execution_count": null,
   "metadata": {},
   "outputs": [],
   "source": [
    "comment_df = annotate.body_cleanup(comment_df, bot_list)"
   ]
  },
  {
   "cell_type": "code",
   "execution_count": null,
   "metadata": {},
   "outputs": [],
   "source": [
    "issues_df = annotate.body_cleanup(issues_df, bot_list)"
   ]
  },
  {
   "cell_type": "markdown",
   "metadata": {},
   "source": [
    "### Sentiment analysis"
   ]
  },
  {
   "cell_type": "code",
   "execution_count": null,
   "metadata": {},
   "outputs": [],
   "source": [
    "comment_df = annotate.add_sentiment(comment_df)"
   ]
  },
  {
   "cell_type": "code",
   "execution_count": null,
   "metadata": {},
   "outputs": [],
   "source": [
    "issues_df = annotate.add_sentiment(issues_df)"
   ]
  },
  {
   "cell_type": "markdown",
   "metadata": {},
   "source": [
    "### Gratitude"
   ]
  },
  {
   "cell_type": "markdown",
   "metadata": {},
   "source": [
    "**Note**: Must add to pipeline above."
   ]
  },
  {
   "cell_type": "code",
   "execution_count": null,
   "metadata": {},
   "outputs": [],
   "source": [
    "gratitude_list = set(pd.read_csv('./utils/gratitude.txt')['expressions_of_gratitude'])"
   ]
  },
  {
   "cell_type": "code",
   "execution_count": null,
   "metadata": {},
   "outputs": [],
   "source": [
    "from nltk.tokenize import RegexpTokenizer\n",
    "from collections import Counter"
   ]
  },
  {
   "cell_type": "code",
   "execution_count": null,
   "metadata": {},
   "outputs": [],
   "source": [
    "    tokenizer = RegexpTokenizer(r'\\w+')\n",
    "    comment_df['tokenized'] = comment_df['body'].apply(str.lower).apply(tokenizer.tokenize)\n",
    "    comment_df['word_count'] = comment_df['tokenized'].apply(lambda x: Counter(x))"
   ]
  },
  {
   "cell_type": "code",
   "execution_count": null,
   "metadata": {},
   "outputs": [],
   "source": [
    "comment_df['grateful_count'] = (comment_df['word_count']\n",
    "                                   .apply(lambda x: np.sum([v for k, v in x.items() \n",
    "                                                            if k in gratitude_list])))"
   ]
  },
  {
   "cell_type": "code",
   "execution_count": null,
   "metadata": {},
   "outputs": [],
   "source": [
    "comment_df['grateful_list'] = (comment_df['word_count']\n",
    "                                   .apply(lambda z: [k for k in z if k in gratitude_list]))"
   ]
  },
  {
   "cell_type": "code",
   "execution_count": null,
   "metadata": {},
   "outputs": [],
   "source": [
    "comment_df.sort_values(by='grateful_count',\n",
    "                      ascending=False)"
   ]
  },
  {
   "cell_type": "markdown",
   "metadata": {},
   "source": [
    "### Plot"
   ]
  },
  {
   "cell_type": "code",
   "execution_count": null,
   "metadata": {},
   "outputs": [],
   "source": [
    "project = 'mayavi'"
   ]
  },
  {
   "cell_type": "code",
   "execution_count": null,
   "metadata": {},
   "outputs": [],
   "source": [
    "# set a bin number\n",
    "bin_number = 10\n",
    "\n",
    "# create overlapping histograms\n",
    "plt.hist(comment_df['negative_emotion'], \n",
    "         bin_number, facecolor='r', alpha=0.5)\n",
    "plt.hist(comment_df['positive_emotion'], \n",
    "         bin_number, facecolor='g', alpha=0.5)\n",
    "plt.hist(comment_df['neutral_emotion'], \n",
    "         bin_number, facecolor='grey', alpha=0.75)\n",
    "\n",
    "# create labels\n",
    "plt.title('Histogram of emotion proportions in comment bodies\\nfor mayavi')\n",
    "plt.xlabel('Proportion of emotion words to total words')\n",
    "plt.ylabel('Counts')\n",
    "plt.grid(True)\n",
    "\n",
    "# plot it\n",
    "plt.savefig('../../figures/emotion_histograms/'+project+'.png',\n",
    "           dpi=150)\n",
    "plt.close()"
   ]
  },
  {
   "cell_type": "markdown",
   "metadata": {},
   "source": [
    "***"
   ]
  }
 ],
 "metadata": {
  "kernelspec": {
   "display_name": "Python 3",
   "language": "python",
   "name": "python3"
  },
  "language_info": {
   "codemirror_mode": {
    "name": "ipython",
    "version": 3
   },
   "file_extension": ".py",
   "mimetype": "text/x-python",
   "name": "python",
   "nbconvert_exporter": "python",
   "pygments_lexer": "ipython3",
   "version": "3.7.0"
  }
 },
 "nbformat": 4,
 "nbformat_minor": 2
}

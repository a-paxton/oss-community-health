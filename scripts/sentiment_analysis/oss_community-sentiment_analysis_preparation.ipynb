{
 "cells": [
  {
   "cell_type": "markdown",
   "metadata": {},
   "source": [
    "# Sentiment analysis of open-source software communities"
   ]
  },
  {
   "cell_type": "markdown",
   "metadata": {},
   "source": [
    "This Jupyter notebook includes the data preparation and analysis\n",
    "for our project exploring open-source software communities."
   ]
  },
  {
   "cell_type": "markdown",
   "metadata": {},
   "source": [
    "**Code last updated**: 6 November 2018"
   ]
  },
  {
   "cell_type": "markdown",
   "metadata": {},
   "source": [
    "***"
   ]
  },
  {
   "cell_type": "markdown",
   "metadata": {},
   "source": [
    "## Table of contents"
   ]
  },
  {
   "cell_type": "markdown",
   "metadata": {},
   "source": [
    "* [Preliminaries](#Preliminaries)\n",
    "* [Data preparation](#Data-preparation)"
   ]
  },
  {
   "cell_type": "markdown",
   "metadata": {},
   "source": [
    "***"
   ]
  },
  {
   "cell_type": "markdown",
   "metadata": {},
   "source": [
    "## Preliminaries"
   ]
  },
  {
   "cell_type": "markdown",
   "metadata": {},
   "source": [
    "### Load libraries and functions"
   ]
  },
  {
   "cell_type": "code",
   "execution_count": null,
   "metadata": {},
   "outputs": [],
   "source": [
    "import os, glob, string"
   ]
  },
  {
   "cell_type": "code",
   "execution_count": null,
   "metadata": {},
   "outputs": [],
   "source": [
    "import nltk\n",
    "import pandas as pd\n",
    "import numpy as np\n",
    "import matplotlib.pyplot as plt"
   ]
  },
  {
   "cell_type": "code",
   "execution_count": null,
   "metadata": {},
   "outputs": [],
   "source": [
    "from vaderSentiment.vaderSentiment import SentimentIntensityAnalyzer"
   ]
  },
  {
   "cell_type": "code",
   "execution_count": null,
   "metadata": {},
   "outputs": [],
   "source": [
    "from utils import annotate"
   ]
  },
  {
   "cell_type": "markdown",
   "metadata": {},
   "source": [
    "***"
   ]
  },
  {
   "cell_type": "markdown",
   "metadata": {},
   "source": [
    "## Data preparation"
   ]
  },
  {
   "cell_type": "markdown",
   "metadata": {},
   "source": [
    "Cycle through all GitHub project files to clean data and prepare datasets as needed for analysis. \n",
    "For complete list of downloaded variables and new variables created, see `metadata.md` file."
   ]
  },
  {
   "cell_type": "code",
   "execution_count": null,
   "metadata": {},
   "outputs": [],
   "source": [
    "# list all projects\n",
    "project_list = os.listdir('../../data/raw_data')"
   ]
  },
  {
   "cell_type": "code",
   "execution_count": null,
   "metadata": {},
   "outputs": [],
   "source": [
    "# load in the lists needed\n",
    "bot_list = pd.read_csv('../bot_names.txt')['bot_name']\n",
    "gratitude_list = set(pd.read_csv('./utils/gratitude.txt')['expressions_of_gratitude'])\n",
    "\n",
    "# cycle through all \n",
    "for project in project_list:\n",
    "    \n",
    "    # read in the next comments and issues files\n",
    "    temp_comments = pd.read_csv('../../data/raw_data/'+project+'/comments.tsv',\n",
    "                                sep='\\t', index_col=0).sort_index()\n",
    "    temp_issues = pd.read_csv('../../data/raw_data/'+project+'/issues.tsv',\n",
    "                              sep='\\t', index_col=0).sort_index()\n",
    "    \n",
    "    # append the current project to each\n",
    "    temp_comments['project'] = project\n",
    "    temp_issues['project'] = project\n",
    "    \n",
    "    # annotate each file\n",
    "    temp_comments, temp_issues = annotate.annotate_logs(temp_comments,\n",
    "                                                        temp_issues)\n",
    "    \n",
    "    # drop columns we don't need\n",
    "    temp_comments = temp_comments.drop(columns=['node_id','created_at',\n",
    "                                                'updated_at','author_id'])\n",
    "    temp_issues = temp_issues.drop(columns=['node_id','organization',\n",
    "                                          'author_id','locked'])\n",
    "    \n",
    "    # clean up the text body\n",
    "    temp_comments = annotate.body_cleanup(temp_comments, bot_list)\n",
    "    temp_issues = annotate.body_cleanup(temp_issues, bot_list)\n",
    "    \n",
    "    # run sentiment analysis\n",
    "    temp_comments = annotate.add_sentiment(temp_comments)\n",
    "    temp_issues = annotate.add_sentiment(temp_issues)\n",
    "    \n",
    "    # add gratitude info\n",
    "    temp_comments = annotate.add_gratitude(temp_comments, gratitude_list)\n",
    "    temp_issues = annotate.add_gratitude(temp_issues, gratitude_list)\n",
    "    \n",
    "    # save cleaned data to intermediary folders\n",
    "    temp_comments.to_csv('../../data/processed_data/'+project+'-processed-comments.csv',\n",
    "                         index=False, header=True)\n",
    "    temp_issues.to_csv('../../data/processed_data/'+project+'-processed-issues.csv',\n",
    "                         index=False, header=True)\n",
    "    \n",
    "    # use identical bins sizes for all histograms\n",
    "    bin_number = 50    \n",
    "    fig_dpi = 150\n",
    "    y_label_text = 'Density'\n",
    "    density_choice = True\n",
    "    alpha_level = .5\n",
    "    \n",
    "    # create overlapping histograms for emotion in comment text\n",
    "    plt.figure()\n",
    "    plt.hist(temp_comments['negative_emotion'], \n",
    "             bin_number, density=density_choice, facecolor='r', alpha=alpha_level)\n",
    "    plt.hist(temp_comments['positive_emotion'], \n",
    "             bin_number, density=density_choice, facecolor='g', alpha=alpha_level)\n",
    "    plt.hist(temp_comments['neutral_emotion'], \n",
    "             bin_number, density=density_choice, facecolor='grey', alpha=alpha_level)\n",
    "    plt.title('Histogram of emotion proportions in comment bodies\\nfor '+project)\n",
    "    plt.xlabel('Proportion of emotion words to total words')\n",
    "    plt.ylabel(y_label_text)\n",
    "    plt.grid(True)\n",
    "\n",
    "    # plot comment emotion hisogram\n",
    "    plt.savefig('../../figures/emotion_histograms/'+project+'-comment_body.png',\n",
    "               dpi=fig_dpi)\n",
    "    plt.close()\n",
    "    \n",
    "    # create overlapping histograms for emotion in issue text\n",
    "    plt.figure()\n",
    "    plt.hist(temp_issues['negative_emotion'], \n",
    "             bin_number, density=density_choice, facecolor='r', alpha=alpha_level)\n",
    "    plt.hist(temp_issues['positive_emotion'], \n",
    "             bin_number, density=density_choice, facecolor='g', alpha=alpha_level)\n",
    "    plt.hist(temp_issues['neutral_emotion'], \n",
    "             bin_number, density=density_choice, facecolor='grey', alpha=alpha_level)\n",
    "    plt.title('Histogram of emotion proportions in issue bodies\\nfor '+project)\n",
    "    plt.xlabel('Proportion of emotion words to total words')\n",
    "    plt.ylabel(y_label_text)\n",
    "    plt.grid(True)\n",
    "\n",
    "    # plot comment text\n",
    "    plt.savefig('../../figures/emotion_histograms/'+project+'-issue_body.png',\n",
    "               dpi=fig_dpi)\n",
    "    plt.close()\n",
    "    "
   ]
  },
  {
   "cell_type": "code",
   "execution_count": null,
   "metadata": {},
   "outputs": [],
   "source": [
    "# concatenate all into master file\n",
    "comments_df = pd.DataFrame()\n",
    "issues_df = pd.DataFrame()"
   ]
  },
  {
   "cell_type": "markdown",
   "metadata": {},
   "source": [
    "***"
   ]
  },
  {
   "cell_type": "markdown",
   "metadata": {},
   "source": [
    "# Code testing ground"
   ]
  },
  {
   "cell_type": "markdown",
   "metadata": {},
   "source": [
    "### Data preparation"
   ]
  },
  {
   "cell_type": "code",
   "execution_count": null,
   "metadata": {},
   "outputs": [],
   "source": [
    "project = 'mayavi'"
   ]
  },
  {
   "cell_type": "code",
   "execution_count": null,
   "metadata": {},
   "outputs": [],
   "source": [
    "temp_comments = pd.read_csv('../../data/raw_data/'+project+'/comments.tsv',\n",
    "                          sep='\\t', index_col=0).sort_index()"
   ]
  },
  {
   "cell_type": "code",
   "execution_count": null,
   "metadata": {},
   "outputs": [],
   "source": [
    "temp_issues = pd.read_csv('../../data/raw_data/'+project+'/issues.tsv',\n",
    "                          sep='\\t', index_col=0).sort_index()"
   ]
  },
  {
   "cell_type": "markdown",
   "metadata": {},
   "source": [
    "### Annotate the files with new columns"
   ]
  },
  {
   "cell_type": "code",
   "execution_count": null,
   "metadata": {},
   "outputs": [],
   "source": [
    "temp_comments, temp_issues = annotate.annotate_logs(temp_comments,temp_issues)"
   ]
  },
  {
   "cell_type": "markdown",
   "metadata": {},
   "source": [
    "### Remove unnecessary columns"
   ]
  },
  {
   "cell_type": "code",
   "execution_count": null,
   "metadata": {},
   "outputs": [],
   "source": [
    "temp_comments = temp_comments.drop(columns=['node_id','updated_at','author_id'])"
   ]
  },
  {
   "cell_type": "code",
   "execution_count": null,
   "metadata": {},
   "outputs": [],
   "source": [
    "temp_issues = temp_issues.drop(columns=['node_id','organization','author_id','locked'])"
   ]
  },
  {
   "cell_type": "markdown",
   "metadata": {},
   "source": [
    "### Clean up body"
   ]
  },
  {
   "cell_type": "code",
   "execution_count": null,
   "metadata": {},
   "outputs": [],
   "source": [
    "bot_list = pd.read_csv('../bot_names.txt')['bot_name']"
   ]
  },
  {
   "cell_type": "code",
   "execution_count": null,
   "metadata": {},
   "outputs": [],
   "source": [
    "temp_comments = annotate.body_cleanup(temp_comments, bot_list)"
   ]
  },
  {
   "cell_type": "code",
   "execution_count": null,
   "metadata": {},
   "outputs": [],
   "source": [
    "temp_issues = annotate.body_cleanup(temp_issues, bot_list)"
   ]
  },
  {
   "cell_type": "markdown",
   "metadata": {},
   "source": [
    "### Sentiment analysis"
   ]
  },
  {
   "cell_type": "code",
   "execution_count": null,
   "metadata": {},
   "outputs": [],
   "source": [
    "temp_comments = annotate.add_sentiment(temp_comments)"
   ]
  },
  {
   "cell_type": "code",
   "execution_count": null,
   "metadata": {},
   "outputs": [],
   "source": [
    "temp_issues = annotate.add_sentiment(temp_issues)"
   ]
  },
  {
   "cell_type": "markdown",
   "metadata": {},
   "source": [
    "### Gratitude"
   ]
  },
  {
   "cell_type": "code",
   "execution_count": null,
   "metadata": {},
   "outputs": [],
   "source": [
    "gratitude_list = set(pd.read_csv('./utils/gratitude.txt')['expressions_of_gratitude'])"
   ]
  },
  {
   "cell_type": "code",
   "execution_count": null,
   "metadata": {},
   "outputs": [],
   "source": [
    "temp_comments = annotate.add_gratitude(temp_comments, gratitude_list)"
   ]
  },
  {
   "cell_type": "code",
   "execution_count": null,
   "metadata": {},
   "outputs": [],
   "source": [
    "temp_issues = annotate.add_gratitude(temp_issues, gratitude_list)"
   ]
  },
  {
   "cell_type": "markdown",
   "metadata": {},
   "source": [
    "### Plot"
   ]
  },
  {
   "cell_type": "code",
   "execution_count": null,
   "metadata": {},
   "outputs": [],
   "source": [
    "# use identical bins sizes for all histograms\n",
    "bin_number = 50    \n",
    "fig_dpi = 150\n",
    "y_label_text = 'Density'\n",
    "density_choice = True\n",
    "alpha_level = .5"
   ]
  },
  {
   "cell_type": "code",
   "execution_count": null,
   "metadata": {},
   "outputs": [],
   "source": [
    "# create overlapping histograms for emotion in comment text\n",
    "plt.figure()\n",
    "plt.hist(temp_comments['negative_emotion'], \n",
    "         bin_number, density=density_choice, facecolor='r', alpha=alpha_level)\n",
    "plt.hist(temp_comments['positive_emotion'], \n",
    "         bin_number, density=density_choice, facecolor='g', alpha=alpha_level)\n",
    "plt.hist(temp_comments['neutral_emotion'], \n",
    "         bin_number, density=density_choice, facecolor='grey', alpha=alpha_level)\n",
    "plt.title('Histogram of emotion proportions in comment bodies\\nfor '+project)\n",
    "plt.xlabel('Proportion of emotion words to total words')\n",
    "plt.ylabel('Counts')\n",
    "plt.grid(True)\n",
    "\n",
    "# plot it\n",
    "plt.savefig('../../figures/emotion_histograms/'+project+'.png',\n",
    "           dpi=150)\n",
    "plt.close()"
   ]
  },
  {
   "cell_type": "markdown",
   "metadata": {},
   "source": [
    "***"
   ]
  }
 ],
 "metadata": {
  "kernelspec": {
   "display_name": "Python 3",
   "language": "python",
   "name": "python3"
  },
  "language_info": {
   "codemirror_mode": {
    "name": "ipython",
    "version": 3
   },
   "file_extension": ".py",
   "mimetype": "text/x-python",
   "name": "python",
   "nbconvert_exporter": "python",
   "pygments_lexer": "ipython3",
   "version": "3.7.0"
  }
 },
 "nbformat": 4,
 "nbformat_minor": 2
}
